{
  "nbformat": 4,
  "nbformat_minor": 0,
  "metadata": {
    "colab": {
      "name": "phase3.ipynb",
      "provenance": [],
      "collapsed_sections": []
    },
    "kernelspec": {
      "name": "python3",
      "display_name": "Python 3"
    },
    "language_info": {
      "name": "python"
    }
  },
  "cells": [
    {
      "cell_type": "markdown",
      "metadata": {
        "id": "IK95A2oEy1KK"
      },
      "source": [
        "Full graph \n"
      ]
    },
    {
      "cell_type": "code",
      "metadata": {
        "colab": {
          "base_uri": "https://localhost:8080/",
          "height": 248
        },
        "id": "6gxZNC0mrLIq",
        "outputId": "5a5aabd1-4f1f-4ff7-8b75-6228efe19120"
      },
      "source": [
        "import networkx as nx\n",
        "import matplotlib.pyplot as plt\n",
        " \n",
        "graph=nx.DiGraph()\n",
        "graph.add_edges_from([ \n",
        "                       ('A','B'),('A','C')\n",
        "                      ,('B','A'),('B','D')\n",
        "                      ,('C','A'),('C','D'),('C','E')\n",
        "                      ,('D','B'),('D','C'),('D','F')\n",
        "                      ,('E','C'),('E','F'),('E','G')\n",
        "                      ,('F','D'),('F','E'),('F','H')\n",
        "                      ,('G','E'),('G','H'),('G','I')\n",
        "                      ,('H','F'),('H','G'),('H','J')\n",
        "                      ,('I','G'),('I','J')\n",
        "                      ,('J','H'),('J','I')\n",
        "                                      ] )\n",
        " \n",
        "pos =nx.spring_layout(graph)\n",
        "nx.draw_networkx_nodes(graph,pos, node_size=100)\n",
        "nx.draw_networkx_edges(graph,pos , edgelist=graph.edges(),edge_color='black')\n",
        "nx.draw_networkx_labels(graph,pos)\n",
        " \n",
        "plt.show()"
      ],
      "execution_count": null,
      "outputs": [
        {
          "output_type": "display_data",
          "data": {
            "image/png": "[encoded data removed]",
            "text/plain": [
              "<Figure size 432x288 with 1 Axes>"
            ]
          },
          "metadata": {
            "tags": []
          }
        }
      ]
    },
    {
      "cell_type": "markdown",
      "metadata": {
        "id": "GD0lg1oGzQnv"
      },
      "source": [
        "code to search "
      ]
    },
    {
      "cell_type": "code",
      "metadata": {
        "colab": {
          "base_uri": "https://localhost:8080/"
        },
        "id": "a4DDntuv8uun",
        "outputId": "e9fbda30-b859-4e95-9297-130af507a4be"
      },
      "source": [
        "import collections\n",
        "import heapq\n",
        "\n",
        "def spray(edges, source, target):\n",
        "  # create graph\n",
        "    graph = collections.defaultdict(list)\n",
        "    for l, r, c in edges:\n",
        "        graph[l].append((c,r))\n",
        "        #create queue to know visited nodes \n",
        "    queue, visited = [(0, source, [])], set()\n",
        "    # biuld heap \n",
        "    heapq.heapify(queue)\n",
        "    # traverse graph with BFS\n",
        "    while queue:\n",
        "        (cost, node, path) = heapq.heappop(queue)\n",
        "        # visit the node if it was not visited before\n",
        "        if node not in visited:\n",
        "            visited.add(node)\n",
        "            path = path + [node]\n",
        "            # hit the target\n",
        "            if node == target:\n",
        "                return (cost, path)\n",
        "            # visit neighbours\n",
        "            for c, neighbour in graph[node]:\n",
        "                if neighbour not in visited:\n",
        "                    heapq.heappush(queue, (cost+c, neighbour, path))\n",
        "    return float(\"inf\")\n",
        "\n",
        "if __name__ == \"__main__\":\n",
        "    edges = [\n",
        "        ('A','B',32),\n",
        "        ('A','C',6),\n",
        "        ('B','A',32),\n",
        "        ('B','D',6),\n",
        "        ('C','A',6),\n",
        "        ('C','D',32),\n",
        "        ('C','E',6),\n",
        "        ('D','B',6),\n",
        "        ('D','C',32),\n",
        "        ('D','F',6),\n",
        "        ('E','C',6),\n",
        "        ('E','F',32),\n",
        "        ('E','G',6),\n",
        "        ('F','D',6),\n",
        "        ('F','E',32),\n",
        "        ('F','H',6),\n",
        "        ('G','E',6),\n",
        "        ('G','H',32),\n",
        "        ('G','I',6),\n",
        "        ('H','F',6),\n",
        "        ('H','G',32),\n",
        "        ('H','J',6),\n",
        "        ('I','G',6),\n",
        "        ('I','J',32),\n",
        "        ('J','H',6),\n",
        "        ('J','I',32)\n",
        "    ]\n",
        "    start= str(input(\"Enter initial state:\\t\"))\n",
        "    end=str(input(\"Enter end state:\\t\"))\n",
        "    spray_type=str(input(\"Enter spray type:\\t\"))\n",
        "    start=start.capitalize()\n",
        "    end=end.capitalize()\n",
        "    start=start[0]\n",
        "    end=end[0]\n",
        "    data=spray(edges, start, end)\n",
        "    print (data,\"\\t spray \", spray_type)"
      ],
      "execution_count": null,
      "outputs": [
        {
          "output_type": "stream",
          "text": [
            "Enter initial state:\ta\n",
            "Enter end state:\th\n",
            "Enter spray type:\twater\n",
            "(50, ['A', 'B', 'D', 'F', 'H']) \t spray  water\n"
          ],
          "name": "stdout"
        }
      ]
    },
    {
      "cell_type": "markdown",
      "metadata": {
        "id": "OI5Qb6y1zbdw"
      },
      "source": [
        "path GUI\n"
      ]
    },
    {
      "cell_type": "code",
      "metadata": {
        "id": "6__fAoT1hA6i",
        "colab": {
          "base_uri": "https://localhost:8080/",
          "height": 265
        },
        "outputId": "db9689b9-c588-468b-fbc9-107b9a5a837f"
      },
      "source": [
        "graph=nx.DiGraph()\n",
        "data=data[1]\n",
        "print('path: ',data)\n",
        "data2=[]\n",
        "i=1\n",
        "while i < len(data):\n",
        "    data2.append((data[i-1],data[i]))\n",
        "    i+=1\n",
        "graph.add_edges_from(data2 )\n",
        "pos =nx.spring_layout(graph)\n",
        "nx.draw_networkx_nodes(graph,pos, node_size=100)\n",
        "nx.draw_networkx_edges(graph,pos , edgelist=graph.edges(),edge_color='black')\n",
        "nx.draw_networkx_labels(graph,pos)\n",
        " \n",
        "plt.show()"
      ],
      "execution_count": null,
      "outputs": [
        {
          "output_type": "stream",
          "text": [
            "path:  ['A', 'B', 'D', 'F', 'H']\n"
          ],
          "name": "stdout"
        },
        {
          "output_type": "display_data",
          "data": {
            "image/png": "[encoded data removed]",
            "text/plain": [
              "<Figure size 432x288 with 1 Axes>"
            ]
          },
          "metadata": {
            "tags": []
          }
        }
      ]
    }
  ]
}